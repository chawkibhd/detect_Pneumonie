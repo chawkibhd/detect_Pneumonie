{
 "cells": [
  {
   "cell_type": "code",
   "execution_count": 29,
   "metadata": {},
   "outputs": [],
   "source": [
    "import PIL\n",
    "import numpy as np\n",
    "import matplotlib.pyplot as plt\n",
    "import tensorflow as tf\n",
    "import pathlib\n",
    "\n",
    "from tensorflow.keras.utils import image_dataset_from_directory\n",
    "from tensorflow.keras import layers\n",
    "from tensorflow.keras.models import Sequential"
   ]
  },
  {
   "cell_type": "code",
   "execution_count": 30,
   "metadata": {},
   "outputs": [],
   "source": [
    "train_dir = \"Dataset/DatasetsnewtpIA/train\"\n",
    "val_dir = \"Dataset/DatasetsnewtpIA/val\"\n",
    "all_data = \"Dataset/DatasetsnewtpIA/all_data\"\n",
    "\n",
    "\n",
    "# Load the dataset with a validation split\n",
    "batch_size = 32\n",
    "img_height = 128\n",
    "img_width = 128\n",
    "validation_split = 0.2"
   ]
  },
  {
   "cell_type": "code",
   "execution_count": 31,
   "metadata": {},
   "outputs": [
    {
     "name": "stdout",
     "output_type": "stream",
     "text": [
      "Found 7173 files belonging to 2 classes.\n",
      "Using 5739 files for training.\n",
      "Found 7173 files belonging to 2 classes.\n",
      "Using 1434 files for validation.\n"
     ]
    }
   ],
   "source": [
    "# Training dataset\n",
    "train_dataset = image_dataset_from_directory(\n",
    "    all_data,\n",
    "    validation_split=validation_split,\n",
    "    subset=\"training\",\n",
    "    seed=123,  # Ensures consistent splitting\n",
    "    image_size=(img_height, img_width),\n",
    "    batch_size=batch_size\n",
    ")\n",
    "\n",
    "# Validation dataset\n",
    "val_dataset = image_dataset_from_directory(\n",
    "    all_data,\n",
    "    validation_split=validation_split,\n",
    "    subset=\"validation\",\n",
    "    seed=123,  # Same seed to ensure the split matches\n",
    "    image_size=(img_height, img_width),\n",
    "    batch_size=batch_size\n",
    ")"
   ]
  },
  {
   "cell_type": "code",
   "execution_count": 32,
   "metadata": {},
   "outputs": [
    {
     "name": "stdout",
     "output_type": "stream",
     "text": [
      "Class names: ['NORMAL', 'PNEUMONIA']\n",
      "Image batch shape: (32, 128, 128, 3)\n",
      "Labels batch shape: (32,)\n"
     ]
    }
   ],
   "source": [
    "class_names = train_dataset.class_names\n",
    "print(\"Class names:\", class_names)\n",
    "\n",
    "for image_batch, labels_batch in train_dataset.take(1):\n",
    "    print(\"Image batch shape:\", image_batch.shape)\n",
    "    print(\"Labels batch shape:\", labels_batch.shape)"
   ]
  },
  {
   "cell_type": "code",
   "execution_count": 33,
   "metadata": {},
   "outputs": [],
   "source": [
    "normalization_layer = layers.Rescaling(1./255)\n",
    "\n",
    "train_dataset = train_dataset.map(lambda x, y: (normalization_layer(x), y))\n",
    "val_dataset = val_dataset.map(lambda x, y: (normalization_layer(x), y))"
   ]
  },
  {
   "cell_type": "code",
   "execution_count": 34,
   "metadata": {},
   "outputs": [],
   "source": [
    "AUTOTUNE = tf.data.AUTOTUNE\n",
    "\n",
    "train_dataset = train_dataset.cache().prefetch(buffer_size=AUTOTUNE)\n",
    "val_dataset = val_dataset.cache().prefetch(buffer_size=AUTOTUNE)"
   ]
  },
  {
   "cell_type": "code",
   "execution_count": 35,
   "metadata": {},
   "outputs": [],
   "source": [
    "num_classes = len(class_names)\n",
    "\n",
    "model = Sequential([\n",
    "    # Example input layer (assuming 128x128, 3 channels)\n",
    "    layers.Conv2D(16, (3,3), activation='relu', padding='same', \n",
    "                  input_shape=(128, 128, 3)),\n",
    "    layers.Dropout(0.2),  # 20% dropout after first Conv layer\n",
    "    layers.MaxPooling2D(),\n",
    "\n",
    "    layers.Conv2D(32, (3,3), activation='relu', padding='same'),\n",
    "    layers.Dropout(0.2),  # 20% dropout after second Conv layer\n",
    "    layers.MaxPooling2D(),\n",
    "\n",
    "    layers.Conv2D(64, (3,3), activation='relu', padding='same'),\n",
    "    layers.Dropout(0.2),  # 20% dropout after third Conv layer\n",
    "    layers.MaxPooling2D(),\n",
    "\n",
    "    layers.Flatten(),\n",
    "    layers.Dense(128, activation='relu'),\n",
    "    layers.Dropout(0.3),  # 30% dropout in Dense layer\n",
    "    \n",
    "    # For binary classification:\n",
    "    layers.Dense(1, activation='sigmoid')\n",
    "])"
   ]
  },
  {
   "cell_type": "code",
   "execution_count": 36,
   "metadata": {},
   "outputs": [],
   "source": [
    "model.compile(\n",
    "    optimizer='adam',\n",
    "    loss='binary_crossentropy', \n",
    "    metrics=['accuracy']\n",
    ")"
   ]
  },
  {
   "cell_type": "code",
   "execution_count": 37,
   "metadata": {},
   "outputs": [
    {
     "name": "stdout",
     "output_type": "stream",
     "text": [
      "Model: \"sequential\"\n",
      "_________________________________________________________________\n",
      " Layer (type)                Output Shape              Param #   \n",
      "=================================================================\n",
      " conv2d (Conv2D)             (None, 128, 128, 16)      448       \n",
      "                                                                 \n",
      " dropout (Dropout)           (None, 128, 128, 16)      0         \n",
      "                                                                 \n",
      " max_pooling2d (MaxPooling2D  (None, 64, 64, 16)       0         \n",
      " )                                                               \n",
      "                                                                 \n",
      " conv2d_1 (Conv2D)           (None, 64, 64, 32)        4640      \n",
      "                                                                 \n",
      " dropout_1 (Dropout)         (None, 64, 64, 32)        0         \n",
      "                                                                 \n",
      " max_pooling2d_1 (MaxPooling  (None, 32, 32, 32)       0         \n",
      " 2D)                                                             \n",
      "                                                                 \n",
      " conv2d_2 (Conv2D)           (None, 32, 32, 64)        18496     \n",
      "                                                                 \n",
      " dropout_2 (Dropout)         (None, 32, 32, 64)        0         \n",
      "                                                                 \n",
      " max_pooling2d_2 (MaxPooling  (None, 16, 16, 64)       0         \n",
      " 2D)                                                             \n",
      "                                                                 \n",
      " flatten (Flatten)           (None, 16384)             0         \n",
      "                                                                 \n",
      " dense (Dense)               (None, 128)               2097280   \n",
      "                                                                 \n",
      " dropout_3 (Dropout)         (None, 128)               0         \n",
      "                                                                 \n",
      " dense_1 (Dense)             (None, 1)                 129       \n",
      "                                                                 \n",
      "=================================================================\n",
      "Total params: 2,120,993\n",
      "Trainable params: 2,120,993\n",
      "Non-trainable params: 0\n",
      "_________________________________________________________________\n"
     ]
    }
   ],
   "source": [
    "model.summary()"
   ]
  },
  {
   "cell_type": "code",
   "execution_count": 38,
   "metadata": {},
   "outputs": [
    {
     "name": "stdout",
     "output_type": "stream",
     "text": [
      "GPU is available: /physical_device:GPU:0\n"
     ]
    }
   ],
   "source": [
    "gpus = tf.config.list_physical_devices('GPU')\n",
    "if gpus:\n",
    "    print(f\"GPU is available: {gpus[0].name}\")\n",
    "else:\n",
    "    print(\"No GPU detected. Training will use the CPU.\")"
   ]
  },
  {
   "cell_type": "code",
   "execution_count": 39,
   "metadata": {},
   "outputs": [],
   "source": [
    "from tensorflow.keras.callbacks import EarlyStopping\n",
    "\n",
    "# Create the EarlyStopping callback\n",
    "early_stopping_cb = EarlyStopping(\n",
    "    monitor='val_loss',      # what to monitor (val_loss is common)\n",
    "    patience=5,             # how many epochs with no improvement before stopping\n",
    "    restore_best_weights=True\n",
    ")"
   ]
  },
  {
   "cell_type": "code",
   "execution_count": 40,
   "metadata": {},
   "outputs": [
    {
     "name": "stdout",
     "output_type": "stream",
     "text": [
      "Epoch 1/50\n",
      "180/180 [==============================] - 37s 187ms/step - loss: 0.3824 - accuracy: 0.8210 - val_loss: 0.2205 - val_accuracy: 0.9484\n",
      "Epoch 2/50\n",
      "180/180 [==============================] - 8s 43ms/step - loss: 0.1653 - accuracy: 0.9347 - val_loss: 0.2434 - val_accuracy: 0.9386\n",
      "Epoch 3/50\n",
      "180/180 [==============================] - 8s 45ms/step - loss: 0.1281 - accuracy: 0.9542 - val_loss: 0.1343 - val_accuracy: 0.9616\n",
      "Epoch 4/50\n",
      "180/180 [==============================] - 8s 44ms/step - loss: 0.0970 - accuracy: 0.9627 - val_loss: 0.0991 - val_accuracy: 0.9756\n",
      "Epoch 5/50\n",
      "180/180 [==============================] - 8s 44ms/step - loss: 0.0852 - accuracy: 0.9685 - val_loss: 0.0897 - val_accuracy: 0.9770\n",
      "Epoch 6/50\n",
      "180/180 [==============================] - 8s 47ms/step - loss: 0.0664 - accuracy: 0.9751 - val_loss: 0.0772 - val_accuracy: 0.9756\n",
      "Epoch 7/50\n",
      "180/180 [==============================] - 8s 46ms/step - loss: 0.0643 - accuracy: 0.9772 - val_loss: 0.0767 - val_accuracy: 0.9770\n",
      "Epoch 8/50\n",
      "180/180 [==============================] - 8s 46ms/step - loss: 0.0504 - accuracy: 0.9812 - val_loss: 0.0637 - val_accuracy: 0.9756\n",
      "Epoch 9/50\n",
      "180/180 [==============================] - 8s 46ms/step - loss: 0.0427 - accuracy: 0.9857 - val_loss: 0.0551 - val_accuracy: 0.9805\n",
      "Epoch 10/50\n",
      "180/180 [==============================] - 8s 46ms/step - loss: 0.0375 - accuracy: 0.9876 - val_loss: 0.0693 - val_accuracy: 0.9735\n",
      "Epoch 11/50\n",
      "180/180 [==============================] - 8s 45ms/step - loss: 0.0275 - accuracy: 0.9899 - val_loss: 0.0527 - val_accuracy: 0.9777\n",
      "Epoch 12/50\n",
      "180/180 [==============================] - 9s 48ms/step - loss: 0.0296 - accuracy: 0.9888 - val_loss: 0.0520 - val_accuracy: 0.9756\n",
      "Epoch 13/50\n",
      "180/180 [==============================] - 8s 45ms/step - loss: 0.0222 - accuracy: 0.9932 - val_loss: 0.0512 - val_accuracy: 0.9819\n",
      "Epoch 14/50\n",
      "180/180 [==============================] - 10s 56ms/step - loss: 0.0143 - accuracy: 0.9949 - val_loss: 0.0760 - val_accuracy: 0.9721\n",
      "Epoch 15/50\n",
      "180/180 [==============================] - 8s 44ms/step - loss: 0.0242 - accuracy: 0.9908 - val_loss: 0.0587 - val_accuracy: 0.9819\n",
      "Epoch 16/50\n",
      "180/180 [==============================] - 8s 45ms/step - loss: 0.0186 - accuracy: 0.9918 - val_loss: 0.0577 - val_accuracy: 0.9805\n",
      "Epoch 17/50\n",
      "180/180 [==============================] - 9s 49ms/step - loss: 0.0200 - accuracy: 0.9934 - val_loss: 0.0533 - val_accuracy: 0.9812\n",
      "Epoch 18/50\n",
      "180/180 [==============================] - 9s 50ms/step - loss: 0.0155 - accuracy: 0.9944 - val_loss: 0.0659 - val_accuracy: 0.9770\n"
     ]
    }
   ],
   "source": [
    "epochs=50\n",
    "history = model.fit(\n",
    "  train_dataset,\n",
    "  validation_data=val_dataset,\n",
    "  epochs=epochs,\n",
    "  callbacks=[early_stopping_cb]\n",
    ")"
   ]
  },
  {
   "cell_type": "code",
   "execution_count": 41,
   "metadata": {},
   "outputs": [],
   "source": [
    "model.save(\"my_model-v4-bestOne.h5\")"
   ]
  },
  {
   "cell_type": "code",
   "execution_count": 42,
   "metadata": {},
   "outputs": [
    {
     "data": {
      "image/png": "[encoded data removed]",
      "text/plain": [
       "<Figure size 800x400 with 2 Axes>"
      ]
     },
     "metadata": {},
     "output_type": "display_data"
    }
   ],
   "source": [
    "# Extract metrics from history\n",
    "acc = history.history[\"accuracy\"]\n",
    "val_acc = history.history[\"val_accuracy\"]\n",
    "loss = history.history[\"loss\"]\n",
    "val_loss = history.history[\"val_loss\"]\n",
    "epochs_range = range(len(acc))\n",
    "\n",
    "# Plot accuracy\n",
    "plt.figure(figsize=(8, 4))\n",
    "plt.subplot(1, 2, 1)\n",
    "plt.plot(epochs_range, acc, label=\"Training Accuracy\")\n",
    "plt.plot(epochs_range, val_acc, label=\"Validation Accuracy\")\n",
    "plt.legend(loc=\"lower right\")\n",
    "plt.title(\"Training and Validation Accuracy\")\n",
    "\n",
    "# Plot loss\n",
    "plt.subplot(1, 2, 2)\n",
    "plt.plot(epochs_range, loss, label=\"Training Loss\")\n",
    "plt.plot(epochs_range, val_loss, label=\"Validation Loss\")\n",
    "plt.legend(loc=\"upper right\")\n",
    "plt.title(\"Training and Validation Loss\")\n",
    "plt.show()"
   ]
  },
  {
   "cell_type": "code",
   "execution_count": 43,
   "metadata": {},
   "outputs": [
    {
     "name": "stdout",
     "output_type": "stream",
     "text": [
      "Found 16 files belonging to 2 classes.\n"
     ]
    }
   ],
   "source": [
    "import tensorflow as tf\n",
    "\n",
    "test_dir = \"Dataset/DatasetsnewtpIA/test\"  # Replace with the actual path to your test folder\n",
    "img_height = 128\n",
    "img_width = 128\n",
    "batch_size = 32\n",
    "\n",
    "# Load the test dataset\n",
    "test_dataset = tf.keras.utils.image_dataset_from_directory(\n",
    "    test_dir,\n",
    "    image_size=(img_height, img_width),\n",
    "    batch_size=batch_size,\n",
    "    shuffle=False  # Don't shuffle, so you can analyze predictions later\n",
    ")"
   ]
  },
  {
   "cell_type": "code",
   "execution_count": 60,
   "metadata": {},
   "outputs": [
    {
     "name": "stdout",
     "output_type": "stream",
     "text": [
      "WARNING:tensorflow:5 out of the last 814 calls to <function Model.make_test_function.<locals>.test_function at 0x000002C4E8250AF0> triggered tf.function retracing. Tracing is expensive and the excessive number of tracings could be due to (1) creating @tf.function repeatedly in a loop, (2) passing tensors with different shapes, (3) passing Python objects instead of tensors. For (1), please define your @tf.function outside of the loop. For (2), @tf.function has reduce_retracing=True option that can avoid unnecessary retracing. For (3), please refer to https://www.tensorflow.org/guide/function#controlling_retracing and https://www.tensorflow.org/api_docs/python/tf/function for  more details.\n",
      "1/1 [==============================] - 0s 292ms/step - loss: 33.0534 - accuracy: 0.8750\n",
      "Test Loss: 33.05336380004883\n",
      "Test Accuracy: 0.875\n"
     ]
    }
   ],
   "source": [
    "# Load your trained model\n",
    "model = tf.keras.models.load_model(\"my_model-v4-bestOne.h5\")\n",
    "\n",
    "# Evaluate the model on the test dataset\n",
    "test_loss, test_accuracy = model.evaluate(test_dataset)\n",
    "print(f\"Test Loss: {test_loss}\")\n",
    "print(f\"Test Accuracy: {test_accuracy}\")"
   ]
  },
  {
   "cell_type": "code",
   "execution_count": 71,
   "metadata": {},
   "outputs": [],
   "source": [
    "import tensorflow as tf\n",
    "import numpy as np\n",
    "from tensorflow.keras.preprocessing import image\n",
    "\n",
    "def detect_using_cnn(image_path: str) -> bool:\n",
    "    # 1) Load the model\n",
    "    model = tf.keras.models.load_model(\"my_model-v4-bestOne.h5\")\n",
    "\n",
    "    # 2) Define image path and target size\n",
    "    img_height, img_width = 128, 128\n",
    "\n",
    "    # 3) Preprocess the image\n",
    "    test_img = image.load_img(image_path, target_size=(img_height, img_width))\n",
    "    img_array = image.img_to_array(test_img)\n",
    "    img_array = np.expand_dims(img_array, axis=0)\n",
    "\n",
    "\n",
    "    # 4) scale pixel values to [0,1]\n",
    "    img_array = img_array / 255.0\n",
    "\n",
    "    predictions = model.predict(img_array)\n",
    "    print(\"Raw output:\", predictions)\n",
    "\n",
    "    # Binary classification w/ sigmoid output\n",
    "    # True -> Class (1) (PNEUMONIA)\n",
    "    # False -> Class 0 (NORMAL)\n",
    "    return True if predictions[0][0] > 0.5 else False"
   ]
  },
  {
   "cell_type": "code",
   "execution_count": 72,
   "metadata": {},
   "outputs": [
    {
     "name": "stdout",
     "output_type": "stream",
     "text": [
      "1/1 [==============================] - 0s 121ms/step\n",
      "Raw output: [[0.01359105]]\n",
      "Prediction: Class 0 (NORMAL)\n"
     ]
    }
   ],
   "source": [
    "img_path = \"sick.jpeg\"\n",
    "\n",
    "if detect_using_cnn(img_path):\n",
    "    print(\"Prediction: Class 1 (PNEUMONIA)\")\n",
    "else:\n",
    "    print(\"Prediction: Class 0 (NORMAL)\")\n"
   ]
  },
  {
   "cell_type": "markdown",
   "metadata": {},
   "source": [
    "Data Augmentation"
   ]
  },
  {
   "cell_type": "code",
   "execution_count": 23,
   "metadata": {},
   "outputs": [],
   "source": [
    "import os\n",
    "from tensorflow.keras.preprocessing.image import ImageDataGenerator\n",
    "\n",
    "# Path to your original minority-class images (normal)\n",
    "normal_images_dir = \"Dataset/DatasetsnewtpIA/all_data/NORMAL\"          # e.g., contains 1,500 images\n",
    "augmented_normal_dir = \"Dataset/DatasetsnewtpIA/normal_aug\"   # folder where augmented images will be saved\n",
    "\n",
    "# Create the folder if it doesn't exist\n",
    "os.makedirs(augmented_normal_dir, exist_ok=True)\n"
   ]
  },
  {
   "cell_type": "code",
   "execution_count": 24,
   "metadata": {},
   "outputs": [],
   "source": [
    "# Data generator with chosen augmentations\n",
    "datagen = ImageDataGenerator(\n",
    "    rotation_range=15,\n",
    "    width_shift_range=0.1,\n",
    "    height_shift_range=0.1,\n",
    "    zoom_range=0.1,\n",
    "    horizontal_flip=True\n",
    ")"
   ]
  },
  {
   "cell_type": "code",
   "execution_count": 25,
   "metadata": {},
   "outputs": [
    {
     "name": "stdout",
     "output_type": "stream",
     "text": [
      "Found 1349 images belonging to 1 classes.\n"
     ]
    }
   ],
   "source": [
    "# flow_from_directory will read images from `normal_images_dir` \n",
    "# (so put them under normal_images_dir/SomeClass, or just normal_images_dir if each image is a separate file).\n",
    "generator = datagen.flow_from_directory(\n",
    "    directory=normal_images_dir,\n",
    "    target_size=(128, 128),\n",
    "    batch_size=32,\n",
    "    class_mode=None,    # We don't need labels here\n",
    "    shuffle=False,\n",
    "    save_to_dir=augmented_normal_dir,\n",
    "    save_prefix=\"normal_aug\",\n",
    "    save_format=\"jpg\"   # or png\n",
    ")"
   ]
  },
  {
   "cell_type": "code",
   "execution_count": 26,
   "metadata": {},
   "outputs": [
    {
     "name": "stdout",
     "output_type": "stream",
     "text": [
      "Augmentation done. Check the folder: Dataset/DatasetsnewtpIA/normal_aug\n"
     ]
    }
   ],
   "source": [
    "# Decide how many augmented images you want to create\n",
    "num_augmented_images = 2000  # for example\n",
    "\n",
    "# Actually generate and save images\n",
    "# Each call to next(generator) produces one batch of ~32 images\n",
    "batches = num_augmented_images // 32\n",
    "for i in range(batches):\n",
    "    generator.next()  # This will save augmented images to 'augmented_normal_dir'\n",
    "\n",
    "print(\"Augmentation done. Check the folder:\", augmented_normal_dir)\n"
   ]
  }
 ],
 "metadata": {
  "kernelspec": {
   "display_name": "tensorflow-cnn",
   "language": "python",
   "name": "python3"
  },
  "language_info": {
   "codemirror_mode": {
    "name": "ipython",
    "version": 3
   },
   "file_extension": ".py",
   "mimetype": "text/x-python",
   "name": "python",
   "nbconvert_exporter": "python",
   "pygments_lexer": "ipython3",
   "version": "3.10.16"
  }
 },
 "nbformat": 4,
 "nbformat_minor": 2
}
