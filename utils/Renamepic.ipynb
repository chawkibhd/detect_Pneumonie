{
 "cells": [
  {
   "cell_type": "code",
   "execution_count": 1,
   "id": "3b6af43e-c13d-4174-9a55-ab536b4aa5ab",
   "metadata": {},
   "outputs": [
    {
     "name": "stdout",
     "output_type": "stream",
     "text": [
      "Les images dans le dossier 'NORMAL' ont été renommées.\n",
      "Les images dans le dossier 'PNEUMONIA' ont été renommées.\n"
     ]
    }
   ],
   "source": [
    "import os\n",
    "\n",
    "base_dir = os.path.expanduser(\"~/Desktop/LR_grabor/train\")\n",
    "sub_dirs = [\"NORMAL\", \"PNEUMONIA\"]\n",
    "global_count = 0\n",
    "\n",
    "for sub_dir in sub_dirs:\n",
    "    folder_path = os.path.join(base_dir, sub_dir)\n",
    "\n",
    "    if os.path.exists(folder_path):\n",
    "\n",
    "        for filename in os.listdir(folder_path):\n",
    "            if filename.endswith(('.png', '.jpg', '.jpeg')):\n",
    "\n",
    "                new_name = f\"{sub_dir}_{global_count}.jpg\"\n",
    "\n",
    "                old_path = os.path.join(folder_path, filename)\n",
    "                new_path = os.path.join(folder_path, new_name)\n",
    "\n",
    "                os.rename(old_path, new_path)\n",
    "                \n",
    "                global_count += 1\n",
    "                \n",
    "        print(f\"Les images dans le dossier '{sub_dir}' ont été renommées.\")\n",
    "    else:\n",
    "        print(f\"Le dossier '{sub_dir}' n'existe pas.\")"
   ]
  },
  {
   "cell_type": "code",
   "execution_count": 4,
   "id": "ce21bee4-f8cf-47e0-8448-cdd47743949c",
   "metadata": {},
   "outputs": [
    {
     "name": "stdout",
     "output_type": "stream",
     "text": [
      "Les images dans le dossier 'NORMAL' ont été renommées.\n",
      "Les images dans le dossier 'PNEUMONIA' ont été renommées.\n"
     ]
    }
   ],
   "source": [
    "import os\n",
    "\n",
    "base_dir = os.path.expanduser(\"~/Desktop/LR_grabor/val\")\n",
    "sub_dirs = [\"NORMAL\", \"PNEUMONIA\"]\n",
    "global_count = 5216\n",
    "\n",
    "for sub_dir in sub_dirs:\n",
    "    folder_path = os.path.join(base_dir, sub_dir)\n",
    "\n",
    "    if os.path.exists(folder_path):\n",
    "\n",
    "        for filename in os.listdir(folder_path):\n",
    "            if filename.endswith(('.png', '.jpg', '.jpeg')):\n",
    "\n",
    "                new_name = f\"{sub_dir}_{global_count}.jpg\"\n",
    "\n",
    "                old_path = os.path.join(folder_path, filename)\n",
    "                new_path = os.path.join(folder_path, new_name)\n",
    "\n",
    "                os.rename(old_path, new_path)\n",
    "                \n",
    "                global_count += 1\n",
    "                \n",
    "        print(f\"Les images dans le dossier '{sub_dir}' ont été renommées.\")\n",
    "    else:\n",
    "        print(f\"Le dossier '{sub_dir}' n'existe pas.\")"
   ]
  },
  {
   "cell_type": "code",
   "execution_count": null,
   "id": "5ea70293-4d59-41df-ab08-bb9ec13bfd75",
   "metadata": {},
   "outputs": [],
   "source": []
  }
 ],
 "metadata": {
  "kernelspec": {
   "display_name": "Python 3 (ipykernel)",
   "language": "python",
   "name": "python3"
  },
  "language_info": {
   "codemirror_mode": {
    "name": "ipython",
    "version": 3
   },
   "file_extension": ".py",
   "mimetype": "text/x-python",
   "name": "python",
   "nbconvert_exporter": "python",
   "pygments_lexer": "ipython3",
   "version": "3.12.0"
  }
 },
 "nbformat": 4,
 "nbformat_minor": 5
}
