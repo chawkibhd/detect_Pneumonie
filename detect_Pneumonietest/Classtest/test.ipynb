{
 "cells": [
  {
   "cell_type": "code",
   "execution_count": null,
   "id": "afee67f7-6b41-443f-8094-ea05ba175d74",
   "metadata": {},
   "outputs": [
    {
     "name": "stdout",
     "output_type": "stream",
     "text": [
      "Chargement du modèle : /Users/chawkibhd/Desktop/LR_grabor/Classtest/models/logistic_regression_model.pkl\n",
      "Chargement du modèle : /Users/chawkibhd/Desktop/LR_grabor/Classtest/models/logreg-v3.pkl\n",
      "/Library/Frameworks/Python.framework/Versions/3.12/lib/python3.12/site-packages/sklearn/base.py:348: InconsistentVersionWarning: Trying to unpickle estimator LogisticRegression from version 1.5.2 when using version 1.3.2. This might lead to breaking code or invalid results. Use at your own risk. For more info please refer to:\n",
      "https://scikit-learn.org/stable/model_persistence.html#security-maintainability-limitations\n",
      "  warnings.warn(\n",
      "2024-12-29 14:50:57.934 Python[26848:1188808] +[IMKClient subclass]: chose IMKClient_Modern\n",
      "2024-12-29 14:50:57.934 Python[26848:1188808] +[IMKInputSession subclass]: chose IMKInputSession_Modern\n",
      "2024-12-29 14:50:59.663 Python[26848:1188808] The class 'NSOpenPanel' overrides the method identifier.  This method is implemented by class 'NSWindow'\n",
      "Option sélectionnée : CNN\n",
      "Chargement du modèle CNN : /Users/chawkibhd/Desktop/LR_grabor/Classtest/models/my_model-v4-bestOne.h5\n",
      "/Library/Frameworks/Python.framework/Versions/3.12/lib/python3.12/site-packages/keras/src/layers/convolutional/base_conv.py:107: UserWarning: Do not pass an `input_shape`/`input_dim` argument to a layer. When using Sequential models, prefer using an `Input(shape)` object as the first layer in the model instead.\n",
      "  super().__init__(activity_regularizer=activity_regularizer, **kwargs)\n",
      "/Library/Frameworks/Python.framework/Versions/3.12/lib/python3.12/site-packages/keras/src/optimizers/base_optimizer.py:86: UserWarning: Argument `decay` is no longer supported and will be ignored.\n",
      "  warnings.warn(\n",
      "WARNING:absl:Compiled the loaded model, but the compiled metrics have yet to be built. `model.compile_metrics` will be empty until you train or evaluate the model.\n",
      "WARNING:absl:Error in loading the saved optimizer state. As a result, your model is starting with a freshly initialized optimizer.\n",
      "\u001b[1m1/1\u001b[0m \u001b[32m━━━━━━━━━━━━━━━━━━━━\u001b[0m\u001b[37m\u001b[0m \u001b[1m0s\u001b[0m 92ms/step\n",
      "Raw output CNN: [[0.9999857]]\n",
      "Résultat de la prédiction : 1\n"
     ]
    }
   ],
   "source": [
    "!python3 main.py"
   ]
  },
  {
   "cell_type": "code",
   "execution_count": null,
   "id": "daa014e2-9481-4773-8c53-3ce670df9eab",
   "metadata": {},
   "outputs": [],
   "source": []
  }
 ],
 "metadata": {
  "kernelspec": {
   "display_name": "Python 3 (ipykernel)",
   "language": "python",
   "name": "python3"
  },
  "language_info": {
   "codemirror_mode": {
    "name": "ipython",
    "version": 3
   },
   "file_extension": ".py",
   "mimetype": "text/x-python",
   "name": "python",
   "nbconvert_exporter": "python",
   "pygments_lexer": "ipython3",
   "version": "3.12.0"
  }
 },
 "nbformat": 4,
 "nbformat_minor": 5
}
