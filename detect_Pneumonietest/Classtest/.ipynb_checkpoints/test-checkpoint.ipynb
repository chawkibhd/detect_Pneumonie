{
 "cells": [
  {
   "cell_type": "code",
   "execution_count": 8,
   "id": "afee67f7-6b41-443f-8094-ea05ba175d74",
   "metadata": {},
   "outputs": [
    {
     "name": "stdout",
     "output_type": "stream",
     "text": [
      "2024-12-28 16:37:43.715 Python[84351:246636] +[IMKClient subclass]: chose IMKClient_Modern\n",
      "2024-12-28 16:37:43.715 Python[84351:246636] +[IMKInputSession subclass]: chose IMKInputSession_Modern\n",
      "2024-12-28 16:37:44.211 Python[84351:246636] The class 'NSOpenPanel' overrides the method identifier.  This method is implemented by class 'NSWindow'\n",
      "Exception in Tkinter callback\n",
      "Traceback (most recent call last):\n",
      "  File \"/Library/Frameworks/Python.framework/Versions/3.12/lib/python3.12/tkinter/__init__.py\", line 1948, in __call__\n",
      "    return self.func(*args)\n",
      "           ^^^^^^^^^^^^^^^^\n",
      "  File \"/Users/chawkibhd/Desktop/LR_grabor/Classtest/main.py\", line 88, in predict\n",
      "    prediction = self.get_prediction(feature_vector)\n",
      "                 ^^^^^^^^^^^^^^^^^^^^^^^^^^^^^^^^^^^\n",
      "  File \"/Users/chawkibhd/Desktop/LR_grabor/Classtest/main.py\", line 94, in get_prediction\n",
      "    return self.predict_cnn(feature_vector)\n",
      "           ^^^^^^^^^^^^^^^^\n",
      "AttributeError: 'PneumoniaDetectorApp' object has no attribute 'predict_cnn'\n"
     ]
    }
   ],
   "source": [
    "!python3 main.py"
   ]
  },
  {
   "cell_type": "code",
   "execution_count": null,
   "id": "daa014e2-9481-4773-8c53-3ce670df9eab",
   "metadata": {},
   "outputs": [],
   "source": []
  }
 ],
 "metadata": {
  "kernelspec": {
   "display_name": "Python 3 (ipykernel)",
   "language": "python",
   "name": "python3"
  },
  "language_info": {
   "codemirror_mode": {
    "name": "ipython",
    "version": 3
   },
   "file_extension": ".py",
   "mimetype": "text/x-python",
   "name": "python",
   "nbconvert_exporter": "python",
   "pygments_lexer": "ipython3",
   "version": "3.12.0"
  }
 },
 "nbformat": 4,
 "nbformat_minor": 5
}
